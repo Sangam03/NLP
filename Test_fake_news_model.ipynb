{
 "cells": [
  {
   "cell_type": "code",
   "execution_count": 4,
   "id": "c9a5cf3d",
   "metadata": {},
   "outputs": [],
   "source": [
    "from nltk.corpus import stopwords\n",
    "from nltk.stem import PorterStemmer\n",
    "from nltk.stem import WordNetLemmatizer\n",
    "import nltk\n",
    "import pandas as pd\n",
    "import re\n",
    "from nltk.corpus import stopwords\n",
    "from gensim.parsing.preprocessing import remove_stopwords\n",
    "\n",
    "import numpy as np\n",
    "import matplotlib.pyplot as plt\n",
    "import seaborn as sns\n",
    "from sklearn.metrics import accuracy_score\n",
    "#WARNING LIBRARYS\n",
    "import warnings\n",
    "warnings.filterwarnings(\"ignore\")\n",
    "import joblib\n",
    "\n",
    "stemmer = PorterStemmer()\n",
    "lemmitizer = WordNetLemmatizer()\n",
    "stop_words = set(stopwords.words('english'))"
   ]
  },
  {
   "cell_type": "code",
   "execution_count": 6,
   "id": "d8f6f5dc",
   "metadata": {},
   "outputs": [],
   "source": [
    "#Load saved model\n",
    "cv = joblib.load(\"cv_model.pkl\")\n",
    "ML_Model = joblib.load(\"Fake_news_model.pkl\")"
   ]
  },
  {
   "cell_type": "code",
   "execution_count": 7,
   "id": "944afdef",
   "metadata": {},
   "outputs": [
    {
     "data": {
      "text/plain": [
       "CountVectorizer(max_features=5000)"
      ]
     },
     "execution_count": 7,
     "metadata": {},
     "output_type": "execute_result"
    }
   ],
   "source": [
    "cv"
   ]
  },
  {
   "cell_type": "code",
   "execution_count": 8,
   "id": "ae07ea22",
   "metadata": {},
   "outputs": [
    {
     "data": {
      "text/plain": [
       "LogisticRegression()"
      ]
     },
     "execution_count": 8,
     "metadata": {},
     "output_type": "execute_result"
    }
   ],
   "source": [
    "ML_Model"
   ]
  },
  {
   "cell_type": "code",
   "execution_count": 21,
   "id": "5db5ab1a",
   "metadata": {},
   "outputs": [],
   "source": [
    "def text_cleaner(text):\n",
    "    \n",
    "    #Remove all character except A-Z and a-z\n",
    "    sent = re.sub('[^a-zA-Z]',' ',text)\n",
    "    \n",
    "    #Convert into lower case\n",
    "    sent = sent.lower()\n",
    "    \n",
    "    #Steamming\n",
    "    sent = \" \".join([stemmer.stem(word) for word in str(sent).split()])\n",
    "    \n",
    "    #Remove stopwords\n",
    "    sent = \" \".join([stemmer.stem(word) for word in str(sent).split()\n",
    "                    if(word not in stop_words)])\n",
    "    \n",
    "    return sent"
   ]
  },
  {
   "cell_type": "code",
   "execution_count": 27,
   "id": "ce04b84d",
   "metadata": {},
   "outputs": [
    {
     "name": "stdout",
     "output_type": "stream",
     "text": [
      "Before Cleanning:-  Navy's MiG-29K Crashes During Sortie Off Goa, Pilot Ejects Safely\n",
      "After cleanning:-  navi mig k crash dure sorti goa pilot eject safe\n"
     ]
    }
   ],
   "source": [
    "raw_news = \"Navy's MiG-29K Crashes During Sortie Off Goa, Pilot Ejects Safely\"\n",
    "print(\"Before Cleanning:- \",raw_news)\n",
    "\n",
    "cleaned_news = text_cleaner(raw_news)\n",
    "print(\"After cleanning:- \",cleaned_news)"
   ]
  },
  {
   "cell_type": "code",
   "execution_count": 28,
   "id": "6857b2de",
   "metadata": {},
   "outputs": [
    {
     "data": {
      "text/plain": [
       "<1x5000 sparse matrix of type '<class 'numpy.int64'>'\n",
       "\twith 5 stored elements in Compressed Sparse Row format>"
      ]
     },
     "execution_count": 28,
     "metadata": {},
     "output_type": "execute_result"
    }
   ],
   "source": [
    "X = cv.transform([cleaned_news])\n",
    "X"
   ]
  },
  {
   "cell_type": "code",
   "execution_count": 32,
   "id": "da888fa0",
   "metadata": {},
   "outputs": [
    {
     "name": "stdout",
     "output_type": "stream",
     "text": [
      "Fake news\n"
     ]
    }
   ],
   "source": [
    "pred = ML_Model.predict(X)[0]\n",
    "if(pred==0):\n",
    "    print(\"jenune news\")\n",
    "else:\n",
    "    print(\"Fake news\")"
   ]
  },
  {
   "cell_type": "code",
   "execution_count": null,
   "id": "53292aef",
   "metadata": {},
   "outputs": [],
   "source": []
  },
  {
   "cell_type": "code",
   "execution_count": null,
   "id": "526126a9",
   "metadata": {},
   "outputs": [],
   "source": []
  }
 ],
 "metadata": {
  "kernelspec": {
   "display_name": "Python 3 (ipykernel)",
   "language": "python",
   "name": "python3"
  },
  "language_info": {
   "codemirror_mode": {
    "name": "ipython",
    "version": 3
   },
   "file_extension": ".py",
   "mimetype": "text/x-python",
   "name": "python",
   "nbconvert_exporter": "python",
   "pygments_lexer": "ipython3",
   "version": "3.9.12"
  }
 },
 "nbformat": 4,
 "nbformat_minor": 5
}
